{
 "cells": [
  {
   "cell_type": "code",
   "execution_count": 3,
   "metadata": {},
   "outputs": [],
   "source": [
    "import cv2\n",
    "import numpy as np\n",
    "import os\n",
    "# numbrite tuvastamine\n",
    "import easyocr\n",
    "# mängu kontrollimiseks(up, down, left, right)\n",
    "import pyautogui\n",
    "\n",
    "# screenshot\n",
    "from mss import mss\n",
    "from PIL import Image\n",
    "\n",
    "# types\n",
    "from typing import Union, List"
   ]
  },
  {
   "cell_type": "markdown",
   "metadata": {},
   "source": [
    "# Pildilt mänguala otsimine\n",
    "Järgmine lahendus töötab kenasti järgmistel veebilehtedel\n",
    "- https://play2048.co/ \n",
    "- https://ristsona.postimees.ee/2048\n",
    "- https://2048game.com/\n",
    "- https://www.2048.org/ "
   ]
  },
  {
   "cell_type": "code",
   "execution_count": 1,
   "metadata": {},
   "outputs": [],
   "source": [
    "debug = False\n",
    "debug_folder = \"debug_imgs/\"\n",
    "debug_cell_folder = \"{debug_folder}/cell_images\"\n",
    "if debug:\n",
    "    os.makedirs(debug_folder, exist_ok=True)\n",
    "    os.makedirs(debug_cell_folder, exist_ok=True)\n",
    "\n",
    "# numbrituvastuse mudel\n",
    "reader = easyocr.Reader(['en'])\n"
   ]
  },
  {
   "cell_type": "code",
   "execution_count": 4,
   "metadata": {},
   "outputs": [],
   "source": [
    "def get_board(src:str=\"screen.png\") -> Union[None, np.ndarray]:\n",
    "\n",
    "    img = cv2.imread(src)\n",
    "    # pildi eeltöötlus\n",
    "    gray = cv2.cvtColor(img, cv2.COLOR_BGR2GRAY)\n",
    "    gray = cv2.GaussianBlur(gray, (13,13), 0)\n",
    "    edges = cv2.Canny(gray, 1, 8)\n",
    "    kernel = np.ones((1,1), np.uint8)\n",
    "    closed = cv2.morphologyEx(edges, cv2.MORPH_CLOSE, kernel)\n",
    "    \n",
    "    contours, _ = cv2.findContours(closed, cv2.RECURS_FILTER, cv2.CHAIN_APPROX_SIMPLE)\n",
    "    \n",
    "    board = None\n",
    "    for contour in contours:\n",
    "        # pindala, ei ole ideaalne lahendus, aga töötab\n",
    "        if cv2.contourArea(contour) > 200000:\n",
    "            board = contour\n",
    "            break\n",
    "    \n",
    "    # boardi ja debugi pärast on vajalik        \n",
    "    if board is None:\n",
    "        return None\n",
    "\n",
    "    x, y, w, h = cv2.boundingRect(board)\n",
    "    # loome lauda pildi\n",
    "    board_image = img[y:y+h, x:x+w]\n",
    "    \n",
    "    if debug:\n",
    "        cv2.imwrite(f\"{debug_folder}/processed_img.jpg\", closed)\n",
    "        cv2.imwrite(f\"{debug_folder}/board.jpg\", board_image)\n",
    "        cv2.drawContours(img, [board], -1, (0, 255, 0), 3)\n",
    "        cv2.imwrite(f\"{debug_folder}/all_contours.jpg\", img)\n",
    "\n",
    "    return board_image"
   ]
  },
  {
   "cell_type": "markdown",
   "metadata": {},
   "source": [
    "# Jagab pildi 16 osadeks 4x4"
   ]
  },
  {
   "cell_type": "code",
   "execution_count": 5,
   "metadata": {},
   "outputs": [],
   "source": [
    "def extract_board_cells(board:np.ndarray) -> List[np.ndarray]:\n",
    "\n",
    "    # pildi pikkus ja laius\n",
    "    board_height, board_width, _ = board.shape\n",
    "\n",
    "    # meie laua dimensioon\n",
    "    rows = 4\n",
    "    cols = 4\n",
    "\n",
    "    # ühe ruudu pikkus ja laius\n",
    "    cell_height = board_height // rows\n",
    "    cell_width = board_width // cols\n",
    "\n",
    "    # if debug:\n",
    "    #     output_dir = 'cell_images'\n",
    "    #     os.makedirs(output_dir, exist_ok=True)\n",
    "\n",
    "    cells_imgs = []\n",
    "    for row in range(rows):\n",
    "        for col in range(cols):\n",
    "            # Kõrgem matemaatika \n",
    "            x1 = col * cell_width\n",
    "            y1 = row * cell_height\n",
    "            x2 = (col + 1) * cell_width\n",
    "            y2 = (row + 1) * cell_height\n",
    "\n",
    "            # salvestame ruudu massiivi\n",
    "            cell = board[y1:y2, x1:x2]\n",
    "            cells_imgs.append(cell)\n",
    "            if debug:\n",
    "                cell_filename = os.path.join(debug_cell_folder, f'cell_{row}_{col}.jpg')\n",
    "                cv2.imwrite(cell_filename, cell)\n",
    "            \n",
    "    return cells_imgs"
   ]
  },
  {
   "cell_type": "markdown",
   "metadata": {},
   "source": [
    "# Tuvastab numbri\n",
    "\n",
    "Selleks kasutame eel treenitud easyocr mudelit, mis saab kenasti selle ülesandega hakkama."
   ]
  },
  {
   "cell_type": "code",
   "execution_count": 6,
   "metadata": {},
   "outputs": [],
   "source": [
    "def get_cell_number(img:np.ndarray) -> int:\n",
    "    # Using EasyOCR to detect text on the image\n",
    "    # allowlist [0-9], et mudel kontrolliks ainult numbreid\n",
    "    result = reader.readtext(img,  allowlist ='0123456789')\n",
    "    if debug:\n",
    "        print(result)\n",
    "    return int(result[0][1]) if result else 0"
   ]
  },
  {
   "cell_type": "markdown",
   "metadata": {},
   "source": [
    "# Loob 4x4 matriksi graafi algoritmi jaoks"
   ]
  },
  {
   "cell_type": "code",
   "execution_count": 7,
   "metadata": {},
   "outputs": [],
   "source": [
    "def create_4x4_board(board:np.ndarray) -> List[List[int]]:\n",
    "    board_values = [get_cell_number(img) for img in extract_board_cells(board) ]\n",
    "    board_state = [\n",
    "        board_values[0:4], #rida1 \n",
    "        board_values[4:8], \n",
    "        board_values[8:12],\n",
    "        board_values[12:16] #rida2\n",
    "    ]\n",
    "    return board_state"
   ]
  },
  {
   "cell_type": "markdown",
   "metadata": {},
   "source": [
    "# Mängimiseks vajalikud funktisoonid"
   ]
  },
  {
   "cell_type": "code",
   "execution_count": 9,
   "metadata": {},
   "outputs": [],
   "source": [
    "# need funktsioonid ei tööta väga hästi colabis ehk tuleb kasutada eraldi python skirpitna\n",
    "# tuleb veel arusaada kuidas valida width ja height, hetkel need värtused sobivad minu arvuti jaoks\n",
    "def take_screen_shot() -> np.ndarray:\n",
    "    mon = {'left': 0, 'top': 0, 'width': 1400 , 'height': 900}\n",
    "    with mss() as sct:\n",
    "        screenShot = sct.grab(mon)\n",
    "        img = Image.frombytes(\n",
    "            'RGB', \n",
    "            (screenShot.width, screenShot.height), \n",
    "            screenShot.rgb, \n",
    "        )\n",
    "        open_cv_image = np.array(img)\n",
    "        # Convert RGB to BGR, kuna cv2 on BGR\n",
    "        # kuskilt stackoverfloavist võtsin seda\n",
    "        open_cv_image = open_cv_image[:, :, ::-1].copy()\n",
    "        cv2.imwrite(\"screen.png\", open_cv_image)\n",
    "        return open_cv_image\n",
    "\n",
    "def move(direction:str) -> None:\n",
    "    directions = {\n",
    "        \"up\": lambda:pyautogui.press('up'),\n",
    "        \"down\":lambda:pyautogui.press('down'),\n",
    "        \"left\":lambda:pyautogui.press('left'),\n",
    "        \"right\":lambda:pyautogui.press('right')\n",
    "    }\n",
    "\n",
    "    directions[direction]()\n"
   ]
  },
  {
   "cell_type": "markdown",
   "metadata": {},
   "source": [
    "# Näide"
   ]
  },
  {
   "cell_type": "markdown",
   "metadata": {},
   "source": [
    "## Kontrollime kas mängulaud on olemas pildil"
   ]
  },
  {
   "cell_type": "code",
   "execution_count": 12,
   "metadata": {},
   "outputs": [
    {
     "name": "stdout",
     "output_type": "stream",
     "text": [
      "board not found\n"
     ]
    }
   ],
   "source": [
    "board = get_board(\"test_imgs/webpages/other/20.png\")\n",
    "if board is not None:\n",
    "    new_board = create_4x4_board(board)\n",
    "    print(new_board)\n",
    "else:\n",
    "    print(\"board not found\")"
   ]
  },
  {
   "cell_type": "markdown",
   "metadata": {},
   "source": [
    "## Saame  mängulaua väärtused"
   ]
  },
  {
   "cell_type": "code",
   "execution_count": 13,
   "metadata": {},
   "outputs": [
    {
     "name": "stdout",
     "output_type": "stream",
     "text": [
      "[[32, 64, 8192, 16384], [16, 128, 4096, 32768], [8, 256, 2048, 65536], [4, 512, 1024, 131072]]\n"
     ]
    }
   ],
   "source": [
    "board = cv2.imread(\"test_imgs/epic_board_2.png\")\n",
    "new_board = create_4x4_board(board)\n",
    "print(new_board)"
   ]
  },
  {
   "cell_type": "markdown",
   "metadata": {},
   "source": [
    "# Testimine\n"
   ]
  },
  {
   "cell_type": "code",
   "execution_count": 14,
   "metadata": {},
   "outputs": [],
   "source": [
    "# test dirs\n",
    "boards_1_path = \"test_imgs/boards\"\n",
    "webpages_with_board_path = \"test_imgs/webpages/board\"\n",
    "webpages_without_board_path = \"test_imgs/webpages/other\"\n",
    "\n",
    "# get_board\n",
    "webpages_with_board_imgs_paths = os.listdir(webpages_with_board_path) \n",
    "webpages_without_board_imgs_paths = os.listdir(webpages_without_board_path) \n",
    "boards_1_imgs_paths = os.listdir(boards_1_path) \n",
    "\n",
    "for file in webpages_with_board_imgs_paths:\n",
    "    assert get_board(webpages_with_board_path+\"/\"+file) is not None\n",
    "\n",
    "for file in webpages_without_board_imgs_paths:\n",
    "    assert get_board(webpages_without_board_path+\"/\"+file) is None\n",
    "    \n",
    "# extract_board_cells\n",
    "\n",
    "\n",
    "board_1_expected = {\n",
    "    \"0.png\":[[8, 2,8,4], [4,128,32,8], [2,4,2,4], [2,32,0,0]],\n",
    "    \"2.png\":[[8, 2,8,4], [4,128,32,8], [2,4,2,4], [0,2,2,32]],\n",
    "    \"4.png\":[[8, 2,8,4], [4,128,32,8], [0,2,4,8], [2,0,4,32]],\n",
    "    \"5.png\":[[8, 2,8,4], [4,128,32,8], [2,4,8,0], [2,4,32,2]],\n",
    "    \"6.png\":[[8, 2,8,4], [4,128,32,8], [2,2,4,8], [2,4,32,2]],\n",
    "    \"7.png\":[[0, 2,8,2], [8,128,32,4], [4,2,4,16], [4,4,32,2]],\n",
    "    \"8.png\":[[8, 2,8,2], [8,128,32,4], [2,2,4,16], [0,4,32,2]],\n",
    "    \"9.png\":[[8, 2,8,2], [8,128,32,4], [0,4,4,16], [2,4,32,2]],\n",
    "    \"10.png\":[[8, 2,8,2], [8,128,32,4], [2,0,8,16], [2,4,32,2]],\n",
    "    \"11.png\":[[8, 2,8,2], [8,128,32,4], [2,8,16,2], [2,4,32,2]],\n",
    "    \"12.png\":[[0, 2,8,2], [0,128,32,2], [16,8,16,4], [4,4,32,4]],\n",
    "    \"13.png\":[[2, 2,8,2], [0,128,32,2], [16,8,16,4], [0,8,32,4]],\n",
    "    \"15.png\":[[2, 4,8,2], [128,32,2,2], [16,8,16,4], [8,32,4,0]],\n",
    "    \"16.png\":[[2, 4,8,2], [128,32,4,0], [16,8,16,4], [8,32,4,2]],\n",
    "    \"17.png\":[[2, 4,8,2], [128,32,4,4], [16,8,16,2], [8,32,4,2]],\n",
    "}\n",
    "\n",
    "for file in boards_1_imgs_paths:\n",
    "   board = cv2.imread(boards_1_path+\"/\"+file)\n",
    "   new_board = create_4x4_board(board) \n",
    "   assert new_board == board_1_expected[file]\n",
    "\n",
    "# img with big number\n",
    "board = cv2.imread(\"test_imgs/epic_board_2.png\")\n",
    "new_board = create_4x4_board(board) \n",
    "assert new_board == [[32,64,8192,16384],[16,128,4096,32768],[8,256,2048,65536],[4,512,1024,131072]]"
   ]
  }
 ],
 "metadata": {
  "kernelspec": {
   "display_name": ".venv",
   "language": "python",
   "name": "python3"
  },
  "language_info": {
   "codemirror_mode": {
    "name": "ipython",
    "version": 3
   },
   "file_extension": ".py",
   "mimetype": "text/x-python",
   "name": "python",
   "nbconvert_exporter": "python",
   "pygments_lexer": "ipython3",
   "version": "3.10.12"
  }
 },
 "nbformat": 4,
 "nbformat_minor": 2
}
